{
 "cells": [
  {
   "cell_type": "code",
   "execution_count": 2,
   "id": "7da63c5b",
   "metadata": {},
   "outputs": [],
   "source": [
    "#dictionries\n",
    "my_dict = {'key1':'value','key2':'value2'}"
   ]
  },
  {
   "cell_type": "code",
   "execution_count": 3,
   "id": "ee9e6a5d",
   "metadata": {},
   "outputs": [
    {
     "data": {
      "text/plain": [
       "{'key1': 'value', 'key2': 'value2'}"
      ]
     },
     "execution_count": 3,
     "metadata": {},
     "output_type": "execute_result"
    }
   ],
   "source": [
    "my_dict"
   ]
  },
  {
   "cell_type": "code",
   "execution_count": 4,
   "id": "c492a716",
   "metadata": {},
   "outputs": [
    {
     "data": {
      "text/plain": [
       "'value2'"
      ]
     },
     "execution_count": 4,
     "metadata": {},
     "output_type": "execute_result"
    }
   ],
   "source": [
    "#call values by their key\n",
    "my_dict['key2']"
   ]
  },
  {
   "cell_type": "code",
   "execution_count": 5,
   "id": "dcba2a46",
   "metadata": {},
   "outputs": [],
   "source": [
    "my_dict ={'roll_number':123,'marks':[12,23,33],'Subject':['computer','science','maths']}"
   ]
  },
  {
   "cell_type": "code",
   "execution_count": 6,
   "id": "718fcc1a",
   "metadata": {},
   "outputs": [
    {
     "data": {
      "text/plain": [
       "['computer', 'science', 'maths']"
      ]
     },
     "execution_count": 6,
     "metadata": {},
     "output_type": "execute_result"
    }
   ],
   "source": [
    "#lets call items for the dictionery\n",
    "my_dict['Subject']"
   ]
  },
  {
   "cell_type": "code",
   "execution_count": 7,
   "id": "33c89210",
   "metadata": {},
   "outputs": [
    {
     "data": {
      "text/plain": [
       "'science'"
      ]
     },
     "execution_count": 7,
     "metadata": {},
     "output_type": "execute_result"
    }
   ],
   "source": [
    "#can call an index on that values\n",
    "my_dict['Subject'][1]"
   ]
  },
  {
   "cell_type": "code",
   "execution_count": 8,
   "id": "908a3f4d",
   "metadata": {},
   "outputs": [
    {
     "data": {
      "text/plain": [
       "'COMPUTER'"
      ]
     },
     "execution_count": 8,
     "metadata": {},
     "output_type": "execute_result"
    }
   ],
   "source": [
    "#can the even call method on that values\n",
    "my_dict['Subject'][0].upper()"
   ]
  },
  {
   "cell_type": "code",
   "execution_count": 9,
   "id": "755f93dd",
   "metadata": {},
   "outputs": [
    {
     "data": {
      "text/plain": [
       "'computer'"
      ]
     },
     "execution_count": 9,
     "metadata": {},
     "output_type": "execute_result"
    }
   ],
   "source": [
    "my_dict['Subject'][0].lower()"
   ]
  },
  {
   "cell_type": "code",
   "execution_count": 10,
   "id": "22b2a0cf",
   "metadata": {},
   "outputs": [
    {
     "data": {
      "text/plain": [
       "[12, 23, 33]"
      ]
     },
     "execution_count": 10,
     "metadata": {},
     "output_type": "execute_result"
    }
   ],
   "source": [
    "my_dict['marks']"
   ]
  },
  {
   "cell_type": "code",
   "execution_count": 16,
   "id": "25abfa89",
   "metadata": {},
   "outputs": [],
   "source": [
    "#add marks to first element\n",
    "my_dict['marks'][0] = my_dict['marks'][0]+30"
   ]
  },
  {
   "cell_type": "code",
   "execution_count": 17,
   "id": "2fed83d1",
   "metadata": {},
   "outputs": [
    {
     "data": {
      "text/plain": [
       "[132, 23, 33]"
      ]
     },
     "execution_count": 17,
     "metadata": {},
     "output_type": "execute_result"
    }
   ],
   "source": [
    "#check\n",
    "my_dict['marks']"
   ]
  },
  {
   "cell_type": "code",
   "execution_count": 18,
   "id": "2fed9eeb",
   "metadata": {},
   "outputs": [],
   "source": [
    "my_dict['marks'][2]+=20"
   ]
  },
  {
   "cell_type": "code",
   "execution_count": 19,
   "id": "a168f5e6",
   "metadata": {},
   "outputs": [
    {
     "data": {
      "text/plain": [
       "[132, 23, 53]"
      ]
     },
     "execution_count": 19,
     "metadata": {},
     "output_type": "execute_result"
    }
   ],
   "source": [
    "my_dict['marks']"
   ]
  },
  {
   "cell_type": "code",
   "execution_count": 20,
   "id": "e2e9c0c2",
   "metadata": {},
   "outputs": [],
   "source": [
    "#substracting\n",
    "my_dict['marks'][2]-=10"
   ]
  },
  {
   "cell_type": "code",
   "execution_count": 21,
   "id": "a41420aa",
   "metadata": {},
   "outputs": [
    {
     "data": {
      "text/plain": [
       "[132, 23, 43]"
      ]
     },
     "execution_count": 21,
     "metadata": {},
     "output_type": "execute_result"
    }
   ],
   "source": [
    "my_dict['marks']"
   ]
  },
  {
   "cell_type": "code",
   "execution_count": 22,
   "id": "89c17e7d",
   "metadata": {},
   "outputs": [],
   "source": [
    "#Add new key\n",
    "my_dict['Year'] = '3rd'"
   ]
  },
  {
   "cell_type": "code",
   "execution_count": 23,
   "id": "0c9480cb",
   "metadata": {},
   "outputs": [
    {
     "data": {
      "text/plain": [
       "{'roll_number': 123,\n",
       " 'marks': [132, 23, 43],\n",
       " 'Subject': ['computer', 'science', 'maths'],\n",
       " 'Year': '3rd'}"
      ]
     },
     "execution_count": 23,
     "metadata": {},
     "output_type": "execute_result"
    }
   ],
   "source": [
    "my_dict"
   ]
  },
  {
   "cell_type": "code",
   "execution_count": 30,
   "id": "93dfe5f3",
   "metadata": {},
   "outputs": [],
   "source": [
    "#update value\n",
    "my_dict.update({'roll_number':100})"
   ]
  },
  {
   "cell_type": "code",
   "execution_count": 31,
   "id": "be49173e",
   "metadata": {},
   "outputs": [
    {
     "data": {
      "text/plain": [
       "{'roll_number': 100,\n",
       " 'marks': [132, 23, 43],\n",
       " 'Subject': ['computer', 'science', 'maths'],\n",
       " 'Year': '3rd',\n",
       " 'Roll_number': 100}"
      ]
     },
     "execution_count": 31,
     "metadata": {},
     "output_type": "execute_result"
    }
   ],
   "source": [
    "my_dict"
   ]
  },
  {
   "cell_type": "code",
   "execution_count": 32,
   "id": "41f9fad3",
   "metadata": {},
   "outputs": [
    {
     "data": {
      "text/plain": [
       "dict_keys(['roll_number', 'marks', 'Subject', 'Year', 'Roll_number'])"
      ]
     },
     "execution_count": 32,
     "metadata": {},
     "output_type": "execute_result"
    }
   ],
   "source": [
    "my_dict.keys()"
   ]
  },
  {
   "cell_type": "code",
   "execution_count": 33,
   "id": "d4d08e04",
   "metadata": {},
   "outputs": [
    {
     "data": {
      "text/plain": [
       "dict_values([100, [132, 23, 43], ['computer', 'science', 'maths'], '3rd', 100])"
      ]
     },
     "execution_count": 33,
     "metadata": {},
     "output_type": "execute_result"
    }
   ],
   "source": [
    "my_dict.values()"
   ]
  },
  {
   "cell_type": "code",
   "execution_count": 34,
   "id": "87e08f05",
   "metadata": {},
   "outputs": [
    {
     "name": "stdout",
     "output_type": "stream",
     "text": [
      "it is less than 10\n"
     ]
    }
   ],
   "source": [
    "#if - elif -else\n",
    "i = 9\n",
    "if i <10:\n",
    "    print('it is less than 10')\n",
    "else:\n",
    "    print('it is something else')\n",
    "        "
   ]
  },
  {
   "cell_type": "code",
   "execution_count": 35,
   "id": "5e1f9982",
   "metadata": {},
   "outputs": [
    {
     "name": "stdout",
     "output_type": "stream",
     "text": [
      "it is less than 10\n"
     ]
    }
   ],
   "source": [
    "#you can also write in this way\n",
    "print('it is less than 10') if i < 10 else print('it is something else')"
   ]
  },
  {
   "cell_type": "code",
   "execution_count": 42,
   "id": "6f6749cd",
   "metadata": {},
   "outputs": [
    {
     "name": "stdout",
     "output_type": "stream",
     "text": [
      "Your items are eligible for free shipping\n"
     ]
    }
   ],
   "source": [
    "item_1 =300\n",
    "item_2 =250\n",
    "if(item_1 + item_2)>=500:\n",
    "     print('Your items are eligible for free shipping')\n",
    "else:\n",
    "    extra = 500 - (item_1 + item_2)\n",
    "    print('Please add' , extra, 'Rs worth of an item for free shipping')"
   ]
  },
  {
   "cell_type": "code",
   "execution_count": 44,
   "id": "71ac7008",
   "metadata": {},
   "outputs": [
    {
     "name": "stdout",
     "output_type": "stream",
     "text": [
      "Both are not true\n"
     ]
    }
   ],
   "source": [
    "a = 200\n",
    "b = 33\n",
    "c = 500\n",
    "if a > b and c < a:\n",
    "    print(\"Both conditions are True\")\n",
    "else:\n",
    "    print(\"Both are not true\")"
   ]
  },
  {
   "cell_type": "code",
   "execution_count": 50,
   "id": "4956104f",
   "metadata": {},
   "outputs": [
    {
     "name": "stdout",
     "output_type": "stream",
     "text": [
      "A least one of the conditions are True\n"
     ]
    }
   ],
   "source": [
    "a = 150\n",
    "b = 50\n",
    "c = 50\n",
    "if a > b and c < a:\n",
    "    print(\"A least one of the conditions are True\")\n",
    "else:\n",
    "    print(\"Both are not true\")"
   ]
  },
  {
   "cell_type": "code",
   "execution_count": 52,
   "id": "bd59c44c",
   "metadata": {},
   "outputs": [
    {
     "name": "stdout",
     "output_type": "stream",
     "text": [
      "30 Fail-Better luck next time\n"
     ]
    }
   ],
   "source": [
    "marks = 30\n",
    "\n",
    "if marks >= 60:\n",
    "    if marks > 70:\n",
    "        print(marks, '-Distinction')\n",
    "    else:\n",
    "        print(marks, '-First class')\n",
    "        \n",
    "elif marks > 50 and marks < 60:\n",
    "            print(marks, '-Second class')\n",
    "\n",
    "elif marks >= 35:\n",
    "            print(marks, '-Pass')\n",
    "else:\n",
    "            print(marks, 'Fail-Better luck next time')\n",
    "\n",
    "\n",
    "\n",
    "\n",
    "        \n"
   ]
  },
  {
   "cell_type": "code",
   "execution_count": 53,
   "id": "ff16727a",
   "metadata": {},
   "outputs": [
    {
     "name": "stdout",
     "output_type": "stream",
     "text": [
      "80 -Distinction\n"
     ]
    }
   ],
   "source": [
    "marks = 80\n",
    "\n",
    "if marks >= 60:\n",
    "    if marks > 70:\n",
    "        print(marks, '-Distinction')\n",
    "    else:\n",
    "        print(marks, '-First class')\n",
    "        \n",
    "elif marks > 50 and marks < 60:\n",
    "            print(marks, '-Second class')\n",
    "\n",
    "elif marks >= 35:\n",
    "            print(marks, '-Pass')\n",
    "else:\n",
    "            print(marks, 'Fail-Better luck next time')\n"
   ]
  },
  {
   "cell_type": "code",
   "execution_count": 54,
   "id": "47008e79",
   "metadata": {},
   "outputs": [
    {
     "name": "stdout",
     "output_type": "stream",
     "text": [
      "65 -First class\n"
     ]
    }
   ],
   "source": [
    "marks = 65\n",
    "\n",
    "if marks >= 60:\n",
    "    if marks > 70:\n",
    "        print(marks, '-Distinction')\n",
    "    else:\n",
    "        print(marks, '-First class')\n",
    "        \n",
    "elif marks > 50 and marks < 60:\n",
    "            print(marks, '-Second class')\n",
    "\n",
    "elif marks >= 35:\n",
    "            print(marks, '-Pass')\n",
    "else:\n",
    "            print(marks, 'Fail-Better luck next time')\n"
   ]
  },
  {
   "cell_type": "code",
   "execution_count": 55,
   "id": "0821b944",
   "metadata": {},
   "outputs": [
    {
     "name": "stdout",
     "output_type": "stream",
     "text": [
      "59 -Second class\n"
     ]
    }
   ],
   "source": [
    "marks = 59\n",
    "\n",
    "if marks >= 60:\n",
    "    if marks > 70:\n",
    "        print(marks, '-Distinction')\n",
    "    else:\n",
    "        print(marks, '-First class')\n",
    "        \n",
    "elif marks > 50 and marks < 60:\n",
    "            print(marks, '-Second class')\n",
    "\n",
    "elif marks >= 35:\n",
    "            print(marks, '-Pass')\n",
    "else:\n",
    "            print(marks, 'Fail-Better luck next time')\n"
   ]
  },
  {
   "cell_type": "code",
   "execution_count": 57,
   "id": "4039fe00",
   "metadata": {},
   "outputs": [
    {
     "name": "stdout",
     "output_type": "stream",
     "text": [
      "its greater than 25\n"
     ]
    }
   ],
   "source": [
    "num1 = 20\n",
    "num2 = 30\n",
    "if num1 == '20':\n",
    "    print('its not 20')\n",
    "elif num2 > 25:\n",
    "    print('its greater than 25')"
   ]
  },
  {
   "cell_type": "code",
   "execution_count": 63,
   "id": "b840f9e8",
   "metadata": {},
   "outputs": [
    {
     "name": "stdout",
     "output_type": "stream",
     "text": [
      "range(0, 10)\n"
     ]
    }
   ],
   "source": [
    "# the range function\n",
    "print(range(10))"
   ]
  },
  {
   "cell_type": "code",
   "execution_count": 64,
   "id": "ac81fbc9",
   "metadata": {},
   "outputs": [
    {
     "name": "stdout",
     "output_type": "stream",
     "text": [
      "[0, 1, 2, 3, 4, 5, 6, 7, 8, 9]\n"
     ]
    }
   ],
   "source": [
    "print(list(range(10)))"
   ]
  },
  {
   "cell_type": "code",
   "execution_count": 60,
   "id": "527beacd",
   "metadata": {},
   "outputs": [],
   "source": [
    "roll_numbers = list(range(1,8))"
   ]
  },
  {
   "cell_type": "code",
   "execution_count": 61,
   "id": "a864d903",
   "metadata": {},
   "outputs": [
    {
     "data": {
      "text/plain": [
       "[1, 2, 3, 4, 5, 6, 7]"
      ]
     },
     "execution_count": 61,
     "metadata": {},
     "output_type": "execute_result"
    }
   ],
   "source": [
    "roll_numbers"
   ]
  },
  {
   "cell_type": "code",
   "execution_count": 62,
   "id": "a1612cf0",
   "metadata": {},
   "outputs": [
    {
     "data": {
      "text/plain": [
       "[0, 3, 6, 9, 12, 15, 18, 21, 24, 27, 30]"
      ]
     },
     "execution_count": 62,
     "metadata": {},
     "output_type": "execute_result"
    }
   ],
   "source": [
    "step_size = list(range(0,31,3))\n",
    "step_size"
   ]
  },
  {
   "cell_type": "code",
   "execution_count": 65,
   "id": "152fc779",
   "metadata": {},
   "outputs": [
    {
     "data": {
      "text/plain": [
       "[100,\n",
       " 200,\n",
       " 300,\n",
       " 400,\n",
       " 500,\n",
       " 600,\n",
       " 700,\n",
       " 800,\n",
       " 900,\n",
       " 1000,\n",
       " 1100,\n",
       " 1200,\n",
       " 1300,\n",
       " 1400,\n",
       " 1500,\n",
       " 1600]"
      ]
     },
     "execution_count": 65,
     "metadata": {},
     "output_type": "execute_result"
    }
   ],
   "source": [
    "incr_by_hund = list(range(100, 1601, 100))\n",
    "incr_by_hund"
   ]
  },
  {
   "cell_type": "code",
   "execution_count": 66,
   "id": "0997d22f",
   "metadata": {},
   "outputs": [
    {
     "data": {
      "text/plain": [
       "[1600,\n",
       " 1500,\n",
       " 1400,\n",
       " 1300,\n",
       " 1200,\n",
       " 1100,\n",
       " 1000,\n",
       " 900,\n",
       " 800,\n",
       " 700,\n",
       " 600,\n",
       " 500,\n",
       " 400,\n",
       " 300,\n",
       " 200,\n",
       " 100,\n",
       " 0]"
      ]
     },
     "execution_count": 66,
     "metadata": {},
     "output_type": "execute_result"
    }
   ],
   "source": [
    "reverse = list(range(1600, -1, -100))\n",
    "reverse"
   ]
  },
  {
   "cell_type": "code",
   "execution_count": 67,
   "id": "8730a38e",
   "metadata": {},
   "outputs": [
    {
     "name": "stdout",
     "output_type": "stream",
     "text": [
      "['Bengaluru', 'Noida', 'Chennai', 'Hydrabad', 'Delhi']\n"
     ]
    }
   ],
   "source": [
    "#Loops\n",
    "#for loop\n",
    "location = ['Bengaluru','Noida','Chennai','Hydrabad','Delhi']\n",
    "print (location)"
   ]
  },
  {
   "cell_type": "code",
   "execution_count": 71,
   "id": "5267ee7c",
   "metadata": {},
   "outputs": [
    {
     "name": "stdout",
     "output_type": "stream",
     "text": [
      "Bengaluru\n",
      "Noida\n",
      "Chennai\n",
      "Hydrabad\n",
      "Delhi\n"
     ]
    }
   ],
   "source": [
    "#list of string\n",
    "location = ['Bengaluru','Noida','Chennai','Hydrabad','Delhi']\n",
    "\n",
    "for city in location:\n",
    "    print(city)"
   ]
  },
  {
   "cell_type": "code",
   "execution_count": 72,
   "id": "45bc7d65",
   "metadata": {},
   "outputs": [
    {
     "name": "stdout",
     "output_type": "stream",
     "text": [
      "7000\n",
      "8000\n"
     ]
    }
   ],
   "source": [
    "salary = [2000, 4000, 5000, 7000, 8000, 4500, 3800]\n",
    "for val in salary:\n",
    "    if val > 5500:\n",
    "        print(val)"
   ]
  },
  {
   "cell_type": "code",
   "execution_count": 84,
   "id": "7aafe6bd",
   "metadata": {},
   "outputs": [
    {
     "ename": "SyntaxError",
     "evalue": "invalid syntax (2373234069.py, line 10)",
     "output_type": "error",
     "traceback": [
      "\u001b[1;36m  Input \u001b[1;32mIn [84]\u001b[1;36m\u001b[0m\n\u001b[1;33m    elif marks > 50 and marks <= 60:\u001b[0m\n\u001b[1;37m    ^\u001b[0m\n\u001b[1;31mSyntaxError\u001b[0m\u001b[1;31m:\u001b[0m invalid syntax\n"
     ]
    }
   ],
   "source": [
    "student_scores = [35, 67, 78, 79, 12, 34, 67, 54, 89 ]\n",
    "\n",
    "for marks in student_scores:\n",
    "    if marks > 60:\n",
    "        if marks > 70:\n",
    "            print(marks, '-Distinction')\n",
    "    else:\n",
    "        print(marks, '-First class')\n",
    "        \n",
    "    elif marks > 50 and marks <= 60:\n",
    "            print(marks, '-Second class')\n",
    "\n",
    "    elif marks >= 35:\n",
    "            print(marks, '-Pass')\n",
    "    else:\n",
    "            print(marks, 'Fail-Better luck next time')\n",
    "\n"
   ]
  },
  {
   "cell_type": "code",
   "execution_count": null,
   "id": "6a7954d0",
   "metadata": {},
   "outputs": [],
   "source": []
  },
  {
   "cell_type": "code",
   "execution_count": null,
   "id": "ff0919d5",
   "metadata": {},
   "outputs": [],
   "source": []
  }
 ],
 "metadata": {
  "kernelspec": {
   "display_name": "Python 3 (ipykernel)",
   "language": "python",
   "name": "python3"
  },
  "language_info": {
   "codemirror_mode": {
    "name": "ipython",
    "version": 3
   },
   "file_extension": ".py",
   "mimetype": "text/x-python",
   "name": "python",
   "nbconvert_exporter": "python",
   "pygments_lexer": "ipython3",
   "version": "3.9.12"
  }
 },
 "nbformat": 4,
 "nbformat_minor": 5
}
