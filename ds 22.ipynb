{
 "cells": [
  {
   "cell_type": "code",
   "execution_count": 1,
   "id": "f65bd61a",
   "metadata": {},
   "outputs": [
    {
     "name": "stdout",
     "output_type": "stream",
     "text": [
      "Collecting jedi==0.17.2\n",
      "  Downloading jedi-0.17.2-py2.py3-none-any.whl (1.4 MB)\n",
      "Collecting parso<0.8.0,>=0.7.0\n",
      "  Downloading parso-0.7.1-py2.py3-none-any.whl (109 kB)\n",
      "Installing collected packages: parso, jedi\n",
      "  Attempting uninstall: parso\n",
      "    Found existing installation: parso 0.8.3\n",
      "    Uninstalling parso-0.8.3:\n",
      "      Successfully uninstalled parso-0.8.3\n",
      "  Attempting uninstall: jedi\n",
      "    Found existing installation: jedi 0.18.1\n",
      "    Uninstalling jedi-0.18.1:\n",
      "      Successfully uninstalled jedi-0.18.1\n",
      "Successfully installed jedi-0.17.2 parso-0.7.1\n"
     ]
    },
    {
     "name": "stderr",
     "output_type": "stream",
     "text": [
      "ERROR: pip's dependency resolver does not currently take into account all the packages that are installed. This behaviour is the source of the following dependency conflicts.\n",
      "spyder 5.1.5 requires pyqt5<5.13, which is not installed.\n",
      "spyder 5.1.5 requires pyqtwebengine<5.13, which is not installed.\n"
     ]
    }
   ],
   "source": [
    "!pip3 install jedi==0.17.2"
   ]
  },
  {
   "cell_type": "code",
   "execution_count": 2,
   "id": "f4a895ad",
   "metadata": {},
   "outputs": [
    {
     "data": {
      "text/plain": [
       "[]"
      ]
     },
     "execution_count": 2,
     "metadata": {},
     "output_type": "execute_result"
    }
   ],
   "source": [
    "#append\n",
    "employee = []\n",
    "employee"
   ]
  },
  {
   "cell_type": "code",
   "execution_count": 3,
   "id": "7e2570fc",
   "metadata": {},
   "outputs": [
    {
     "name": "stdout",
     "output_type": "stream",
     "text": [
      "['Radha']\n"
     ]
    }
   ],
   "source": [
    "employee.append('Radha')\n",
    "print(employee)"
   ]
  },
  {
   "cell_type": "code",
   "execution_count": 4,
   "id": "3b7d86e1",
   "metadata": {},
   "outputs": [
    {
     "name": "stdout",
     "output_type": "stream",
     "text": [
      "['Radha', 'Ramesh', 'Salman']\n"
     ]
    }
   ],
   "source": [
    "employee.append('Ramesh')\n",
    "employee.append('Salman')\n",
    "print(employee)"
   ]
  },
  {
   "cell_type": "code",
   "execution_count": 5,
   "id": "ef8babac",
   "metadata": {},
   "outputs": [
    {
     "data": {
      "text/plain": [
       "['Radha', 'D souza', 'Ramesh', 'Salman']"
      ]
     },
     "execution_count": 5,
     "metadata": {},
     "output_type": "execute_result"
    }
   ],
   "source": [
    "#index and insert\n",
    "#use double inverted quotation if your string has quotation\n",
    "employee.insert(1,\"D souza\")\n",
    "employee"
   ]
  },
  {
   "cell_type": "code",
   "execution_count": 6,
   "id": "686c0662",
   "metadata": {},
   "outputs": [
    {
     "data": {
      "text/plain": [
       "[15000, 28000, 19000]"
      ]
     },
     "execution_count": 6,
     "metadata": {},
     "output_type": "execute_result"
    }
   ],
   "source": [
    "#one more example wiyh number\n",
    "emp_salary = [15000,28000,19000]\n",
    "emp_salary"
   ]
  },
  {
   "cell_type": "code",
   "execution_count": 7,
   "id": "9b71cc15",
   "metadata": {},
   "outputs": [
    {
     "data": {
      "text/plain": [
       "[48000, 15000, 28000, 19000]"
      ]
     },
     "execution_count": 7,
     "metadata": {},
     "output_type": "execute_result"
    }
   ],
   "source": [
    "emp_salary.insert(0,48000)\n",
    "emp_salary"
   ]
  },
  {
   "cell_type": "code",
   "execution_count": 8,
   "id": "a3052944",
   "metadata": {},
   "outputs": [
    {
     "data": {
      "text/plain": [
       "4"
      ]
     },
     "execution_count": 8,
     "metadata": {},
     "output_type": "execute_result"
    }
   ],
   "source": [
    "len(employee)"
   ]
  },
  {
   "cell_type": "code",
   "execution_count": 9,
   "id": "373d157c",
   "metadata": {},
   "outputs": [
    {
     "data": {
      "text/plain": [
       "['Radha', 'D souza', 'Ramesh', 'Salman']"
      ]
     },
     "execution_count": 9,
     "metadata": {},
     "output_type": "execute_result"
    }
   ],
   "source": [
    "#indexing and Slicing\n",
    "employee"
   ]
  },
  {
   "cell_type": "code",
   "execution_count": 11,
   "id": "ac6b04c1",
   "metadata": {},
   "outputs": [
    {
     "data": {
      "text/plain": [
       "'Ramesh'"
      ]
     },
     "execution_count": 11,
     "metadata": {},
     "output_type": "execute_result"
    }
   ],
   "source": [
    "#Grab element based on index\n",
    "employee[2]"
   ]
  },
  {
   "cell_type": "code",
   "execution_count": 12,
   "id": "902e2087",
   "metadata": {},
   "outputs": [
    {
     "data": {
      "text/plain": [
       "'D souza'"
      ]
     },
     "execution_count": 12,
     "metadata": {},
     "output_type": "execute_result"
    }
   ],
   "source": [
    "employee[1]"
   ]
  },
  {
   "cell_type": "code",
   "execution_count": 13,
   "id": "cca8b039",
   "metadata": {},
   "outputs": [
    {
     "data": {
      "text/plain": [
       "[48000, 15000, 28000, 19000]"
      ]
     },
     "execution_count": 13,
     "metadata": {},
     "output_type": "execute_result"
    }
   ],
   "source": [
    "emp_salary"
   ]
  },
  {
   "cell_type": "code",
   "execution_count": 14,
   "id": "0916a264",
   "metadata": {},
   "outputs": [
    {
     "data": {
      "text/plain": [
       "15000"
      ]
     },
     "execution_count": 14,
     "metadata": {},
     "output_type": "execute_result"
    }
   ],
   "source": [
    "#update the data based on index\n",
    "emp_salary[1]"
   ]
  },
  {
   "cell_type": "code",
   "execution_count": 15,
   "id": "0bdf327c",
   "metadata": {},
   "outputs": [
    {
     "data": {
      "text/plain": [
       "[15000, 28000, 19000]"
      ]
     },
     "execution_count": 15,
     "metadata": {},
     "output_type": "execute_result"
    }
   ],
   "source": [
    "#Grab index 1 and everything past it\n",
    "emp_salary[1:]"
   ]
  },
  {
   "cell_type": "code",
   "execution_count": 16,
   "id": "fc6619ab",
   "metadata": {},
   "outputs": [
    {
     "data": {
      "text/plain": [
       "[48000, 15000, 28000]"
      ]
     },
     "execution_count": 16,
     "metadata": {},
     "output_type": "execute_result"
    }
   ],
   "source": [
    "#Grab everything up to index 2\n",
    "emp_salary[:3]"
   ]
  },
  {
   "cell_type": "code",
   "execution_count": 17,
   "id": "bc3c1332",
   "metadata": {},
   "outputs": [
    {
     "data": {
      "text/plain": [
       "[48000, 15000, 28000, 19000, 25000]"
      ]
     },
     "execution_count": 17,
     "metadata": {},
     "output_type": "execute_result"
    }
   ],
   "source": [
    "#Reassign to keep the data permenently\n",
    "emp_salary + [25000]"
   ]
  },
  {
   "cell_type": "code",
   "execution_count": 18,
   "id": "695639e3",
   "metadata": {},
   "outputs": [
    {
     "data": {
      "text/plain": [
       "[48000, 15000, 28000, 19000]"
      ]
     },
     "execution_count": 18,
     "metadata": {},
     "output_type": "execute_result"
    }
   ],
   "source": [
    "emp_salary"
   ]
  },
  {
   "cell_type": "code",
   "execution_count": 19,
   "id": "cd69732a",
   "metadata": {},
   "outputs": [
    {
     "data": {
      "text/plain": [
       "[48000, 15000, 28000, 19000, 48000, 15000, 28000, 19000]"
      ]
     },
     "execution_count": 19,
     "metadata": {},
     "output_type": "execute_result"
    }
   ],
   "source": [
    "#make the list double\n",
    "emp_salary*2"
   ]
  },
  {
   "cell_type": "code",
   "execution_count": 20,
   "id": "6f711d00",
   "metadata": {},
   "outputs": [
    {
     "name": "stdout",
     "output_type": "stream",
     "text": [
      "==========================================================================================\n"
     ]
    }
   ],
   "source": [
    "print('='* 90)"
   ]
  },
  {
   "cell_type": "code",
   "execution_count": 23,
   "id": "aef19338",
   "metadata": {},
   "outputs": [
    {
     "name": "stdout",
     "output_type": "stream",
     "text": [
      "==========================================================================================\n",
      "                                       Data Trained                       \n",
      "******************************************************************************************\n"
     ]
    }
   ],
   "source": [
    "print('=' * 90)\n",
    "print('                                       Data Trained                       ')\n",
    "print('*' * 90)"
   ]
  },
  {
   "cell_type": "code",
   "execution_count": 24,
   "id": "8d3a9fac",
   "metadata": {},
   "outputs": [
    {
     "data": {
      "text/plain": [
       "[48000, 15000, 28000, 19000]"
      ]
     },
     "execution_count": 24,
     "metadata": {},
     "output_type": "execute_result"
    }
   ],
   "source": [
    "#Again doubling not permanent\n",
    "emp_salary"
   ]
  },
  {
   "cell_type": "code",
   "execution_count": 26,
   "id": "0d8ad527",
   "metadata": {},
   "outputs": [
    {
     "ename": "NameError",
     "evalue": "name 'mark' is not defined",
     "output_type": "error",
     "traceback": [
      "\u001b[1;31m---------------------------------------------------------------------------\u001b[0m",
      "\u001b[1;31mNameError\u001b[0m                                 Traceback (most recent call last)",
      "Input \u001b[1;32mIn [26]\u001b[0m, in \u001b[0;36m<cell line: 3>\u001b[1;34m()\u001b[0m\n\u001b[0;32m      1\u001b[0m \u001b[38;5;66;03m#count\u001b[39;00m\n\u001b[0;32m      2\u001b[0m marks \u001b[38;5;241m=\u001b[39m [ \u001b[38;5;241m25\u001b[39m,\u001b[38;5;241m100\u001b[39m,\u001b[38;5;241m38\u001b[39m,\u001b[38;5;241m49\u001b[39m,\u001b[38;5;241m55\u001b[39m,\u001b[38;5;241m38\u001b[39m,\u001b[38;5;241m100\u001b[39m,\u001b[38;5;241m26\u001b[39m,\u001b[38;5;241m47\u001b[39m,\u001b[38;5;241m55\u001b[39m,\u001b[38;5;241m100\u001b[39m,\u001b[38;5;241m60\u001b[39m,\u001b[38;5;241m74\u001b[39m,\u001b[38;5;241m88\u001b[39m,\u001b[38;5;241m38\u001b[39m,\u001b[38;5;241m100\u001b[39m]\n\u001b[1;32m----> 3\u001b[0m \u001b[43mmark\u001b[49m\u001b[38;5;241m.\u001b[39mcount(\u001b[38;5;241m100\u001b[39m)\n",
      "\u001b[1;31mNameError\u001b[0m: name 'mark' is not defined"
     ]
    }
   ],
   "source": [
    "#count\n",
    "marks = [ 25,100,38,49,55,38,100,26,47,55,100,60,74,88,38,100]\n",
    "mark.count(100)"
   ]
  },
  {
   "cell_type": "code",
   "execution_count": 27,
   "id": "87b12db9",
   "metadata": {},
   "outputs": [
    {
     "data": {
      "text/plain": [
       "[25, 100, 38, 49, 55, 38, 100, 26, 47, 55, 100, 60, 74, 88, 38, 100]"
      ]
     },
     "execution_count": 27,
     "metadata": {},
     "output_type": "execute_result"
    }
   ],
   "source": [
    "marks"
   ]
  },
  {
   "cell_type": "code",
   "execution_count": 28,
   "id": "20f9676a",
   "metadata": {},
   "outputs": [
    {
     "data": {
      "text/plain": [
       "1"
      ]
     },
     "execution_count": 28,
     "metadata": {},
     "output_type": "execute_result"
    }
   ],
   "source": [
    "marks.index(100)"
   ]
  },
  {
   "cell_type": "code",
   "execution_count": 29,
   "id": "1d8ba8f8",
   "metadata": {},
   "outputs": [
    {
     "data": {
      "text/plain": [
       "['Radha', 'D souza', 'Ramesh', 'Salman']"
      ]
     },
     "execution_count": 29,
     "metadata": {},
     "output_type": "execute_result"
    }
   ],
   "source": [
    "#extend\n",
    "employee"
   ]
  },
  {
   "cell_type": "code",
   "execution_count": 30,
   "id": "669663f0",
   "metadata": {},
   "outputs": [
    {
     "name": "stdout",
     "output_type": "stream",
     "text": [
      "['Radha', 'D souza', 'Ramesh', 'Salman', ['Anu', 'Sapna']]\n"
     ]
    }
   ],
   "source": [
    "employee.append(['Anu','Sapna'])\n",
    "print(employee)"
   ]
  },
  {
   "cell_type": "code",
   "execution_count": 31,
   "id": "df1b674a",
   "metadata": {},
   "outputs": [
    {
     "name": "stdout",
     "output_type": "stream",
     "text": [
      "['Radha', 'Remo', 'Ramesh', 'Salman', 'Anu', 'Sapna']\n"
     ]
    }
   ],
   "source": [
    "employee = ['Radha','Remo','Ramesh','Salman']\n",
    "employee.extend(['Anu','Sapna'])\n",
    "print(employee)"
   ]
  },
  {
   "cell_type": "code",
   "execution_count": 34,
   "id": "209495e6",
   "metadata": {},
   "outputs": [],
   "source": [
    "#pop\n",
    "students = ['Raj','Ram','Abid','Nancy','Fatima']"
   ]
  },
  {
   "cell_type": "code",
   "execution_count": 35,
   "id": "58e846db",
   "metadata": {},
   "outputs": [
    {
     "data": {
      "text/plain": [
       "['Raj', 'Ram', 'Abid', 'Nancy', 'Fatima']"
      ]
     },
     "execution_count": 35,
     "metadata": {},
     "output_type": "execute_result"
    }
   ],
   "source": [
    "students"
   ]
  },
  {
   "cell_type": "code",
   "execution_count": 36,
   "id": "3a90d2c1",
   "metadata": {},
   "outputs": [
    {
     "data": {
      "text/plain": [
       "'Ram'"
      ]
     },
     "execution_count": 36,
     "metadata": {},
     "output_type": "execute_result"
    }
   ],
   "source": [
    "#deletes last element by default\n",
    "pop_last = students.pop(1)\n",
    "pop_last"
   ]
  },
  {
   "cell_type": "code",
   "execution_count": 37,
   "id": "e8a8d5c2",
   "metadata": {},
   "outputs": [
    {
     "data": {
      "text/plain": [
       "['Raj', 'Abid', 'Nancy', 'Fatima']"
      ]
     },
     "execution_count": 37,
     "metadata": {},
     "output_type": "execute_result"
    }
   ],
   "source": [
    "#verify if its removed\n",
    "students"
   ]
  },
  {
   "cell_type": "code",
   "execution_count": 38,
   "id": "72261e3d",
   "metadata": {},
   "outputs": [],
   "source": [
    "students = ['Raj','Ram','Abid','Nancy','Fatima']"
   ]
  },
  {
   "cell_type": "code",
   "execution_count": 39,
   "id": "dedb0a5c",
   "metadata": {},
   "outputs": [
    {
     "data": {
      "text/plain": [
       "'Ram'"
      ]
     },
     "execution_count": 39,
     "metadata": {},
     "output_type": "execute_result"
    }
   ],
   "source": [
    "#deletes based on index position\n",
    "pop_index = students.pop(1)\n",
    "pop_index"
   ]
  },
  {
   "cell_type": "code",
   "execution_count": 40,
   "id": "8ec46333",
   "metadata": {},
   "outputs": [
    {
     "data": {
      "text/plain": [
       "['Raj', 'Abid', 'Nancy', 'Fatima']"
      ]
     },
     "execution_count": 40,
     "metadata": {},
     "output_type": "execute_result"
    }
   ],
   "source": [
    "#Verify if its removed\n",
    "students"
   ]
  },
  {
   "cell_type": "code",
   "execution_count": 41,
   "id": "62dd38ad",
   "metadata": {},
   "outputs": [],
   "source": [
    "#remove\n",
    "roll_number = [100,101,102,103,104,103]"
   ]
  },
  {
   "cell_type": "code",
   "execution_count": 42,
   "id": "b7fc228a",
   "metadata": {},
   "outputs": [],
   "source": [
    "#delete data (if there are duplicates, first element is deleted)\n",
    "roll_number.remove(103)"
   ]
  },
  {
   "cell_type": "code",
   "execution_count": 43,
   "id": "2d3c7ae6",
   "metadata": {},
   "outputs": [
    {
     "name": "stdout",
     "output_type": "stream",
     "text": [
      "[100, 101, 102, 104, 103]\n"
     ]
    }
   ],
   "source": [
    "print (roll_number)"
   ]
  },
  {
   "cell_type": "code",
   "execution_count": 44,
   "id": "f07fc04f",
   "metadata": {},
   "outputs": [],
   "source": [
    "lst = [1,2,3,4,3]"
   ]
  },
  {
   "cell_type": "code",
   "execution_count": 47,
   "id": "9df15323",
   "metadata": {},
   "outputs": [],
   "source": [
    "lst.reverse()\n"
   ]
  },
  {
   "cell_type": "code",
   "execution_count": 48,
   "id": "8451ccae",
   "metadata": {},
   "outputs": [
    {
     "data": {
      "text/plain": [
       "[3, 4, 3, 2, 1]"
      ]
     },
     "execution_count": 48,
     "metadata": {},
     "output_type": "execute_result"
    }
   ],
   "source": [
    "lst"
   ]
  },
  {
   "cell_type": "code",
   "execution_count": 49,
   "id": "147ff291",
   "metadata": {},
   "outputs": [
    {
     "data": {
      "text/plain": [
       "[25, 38, 49, 55, 38, 26, 47, 55, 60, 74, 88, 38]"
      ]
     },
     "execution_count": 49,
     "metadata": {},
     "output_type": "execute_result"
    }
   ],
   "source": [
    "marks = [25,38,49,55,38,26,47,55,60,74,88,38]\n",
    "marks"
   ]
  },
  {
   "cell_type": "code",
   "execution_count": 53,
   "id": "0048b7e6",
   "metadata": {},
   "outputs": [
    {
     "name": "stdout",
     "output_type": "stream",
     "text": [
      "[25, 26, 38, 38, 38, 47, 49, 55, 55, 60, 74, 88]\n"
     ]
    }
   ],
   "source": [
    "#by default sorts ascending order\n",
    "marks.sort()\n",
    "print (marks)"
   ]
  },
  {
   "cell_type": "code",
   "execution_count": 55,
   "id": "f3c96d5b",
   "metadata": {},
   "outputs": [
    {
     "name": "stdout",
     "output_type": "stream",
     "text": [
      "[88, 74, 60, 55, 55, 49, 47, 38, 38, 38, 26, 25]\n"
     ]
    }
   ],
   "source": [
    "#sort in descending order\n",
    "marks.sort(reverse=True)\n",
    "print(marks)"
   ]
  },
  {
   "cell_type": "code",
   "execution_count": 56,
   "id": "ca92ebe2",
   "metadata": {},
   "outputs": [
    {
     "data": {
      "text/plain": [
       "('Bengaluru', 'Noida', 'Chennai', 'Delhi')"
      ]
     },
     "execution_count": 56,
     "metadata": {},
     "output_type": "execute_result"
    }
   ],
   "source": [
    "#Constructing Tuples\n",
    "#can create a tuple with mixed types\n",
    "Work_location = ('Bengaluru','Noida','Chennai','Delhi')\n",
    "Work_location"
   ]
  },
  {
   "cell_type": "code",
   "execution_count": 57,
   "id": "dde8c062",
   "metadata": {},
   "outputs": [
    {
     "data": {
      "text/plain": [
       "tuple"
      ]
     },
     "execution_count": 57,
     "metadata": {},
     "output_type": "execute_result"
    }
   ],
   "source": [
    "type(Work_location)"
   ]
  },
  {
   "cell_type": "code",
   "execution_count": 58,
   "id": "11f0dbd1",
   "metadata": {},
   "outputs": [
    {
     "data": {
      "text/plain": [
       "(20000, 35000, 40000)"
      ]
     },
     "execution_count": 58,
     "metadata": {},
     "output_type": "execute_result"
    }
   ],
   "source": [
    "emp_salary=(20000,35000,40000)\n",
    "emp_salary"
   ]
  },
  {
   "cell_type": "code",
   "execution_count": 59,
   "id": "4c7a1308",
   "metadata": {},
   "outputs": [
    {
     "ename": "AttributeError",
     "evalue": "'tuple' object has no attribute 'append'",
     "output_type": "error",
     "traceback": [
      "\u001b[1;31m---------------------------------------------------------------------------\u001b[0m",
      "\u001b[1;31mAttributeError\u001b[0m                            Traceback (most recent call last)",
      "Input \u001b[1;32mIn [59]\u001b[0m, in \u001b[0;36m<cell line: 1>\u001b[1;34m()\u001b[0m\n\u001b[1;32m----> 1\u001b[0m \u001b[43mWork_location\u001b[49m\u001b[38;5;241;43m.\u001b[39;49m\u001b[43mappend\u001b[49m(\u001b[38;5;124m'\u001b[39m\u001b[38;5;124mHyderabad\u001b[39m\u001b[38;5;124m'\u001b[39m)\n",
      "\u001b[1;31mAttributeError\u001b[0m: 'tuple' object has no attribute 'append'"
     ]
    }
   ],
   "source": [
    "Work_location.append('Hyderabad')"
   ]
  },
  {
   "cell_type": "code",
   "execution_count": 60,
   "id": "0f1969d1",
   "metadata": {},
   "outputs": [
    {
     "ename": "SyntaxError",
     "evalue": "invalid syntax (152790708.py, line 2)",
     "output_type": "error",
     "traceback": [
      "\u001b[1;36m  Input \u001b[1;32mIn [60]\u001b[1;36m\u001b[0m\n\u001b[1;33m    Work_location = list(Work location)\u001b[0m\n\u001b[1;37m                              ^\u001b[0m\n\u001b[1;31mSyntaxError\u001b[0m\u001b[1;31m:\u001b[0m invalid syntax\n"
     ]
    }
   ],
   "source": [
    "#convert into list and reassign or you can store in new varible as per the need\n",
    "Work_location = list(Work location)\n",
    "Work_location"
   ]
  },
  {
   "cell_type": "code",
   "execution_count": 62,
   "id": "decf0d68",
   "metadata": {},
   "outputs": [
    {
     "data": {
      "text/plain": [
       "tuple"
      ]
     },
     "execution_count": 62,
     "metadata": {},
     "output_type": "execute_result"
    }
   ],
   "source": [
    "type(Work_location)"
   ]
  },
  {
   "cell_type": "code",
   "execution_count": 63,
   "id": "082cd710",
   "metadata": {},
   "outputs": [
    {
     "ename": "AttributeError",
     "evalue": "'tuple' object has no attribute 'append'",
     "output_type": "error",
     "traceback": [
      "\u001b[1;31m---------------------------------------------------------------------------\u001b[0m",
      "\u001b[1;31mAttributeError\u001b[0m                            Traceback (most recent call last)",
      "Input \u001b[1;32mIn [63]\u001b[0m, in \u001b[0;36m<cell line: 2>\u001b[1;34m()\u001b[0m\n\u001b[0;32m      1\u001b[0m \u001b[38;5;66;03m#change the data\u001b[39;00m\n\u001b[1;32m----> 2\u001b[0m \u001b[43mWork_location\u001b[49m\u001b[38;5;241;43m.\u001b[39;49m\u001b[43mappend\u001b[49m(\u001b[38;5;124m'\u001b[39m\u001b[38;5;124mHyderabad\u001b[39m\u001b[38;5;124m'\u001b[39m)\n\u001b[0;32m      3\u001b[0m Worl_location\n",
      "\u001b[1;31mAttributeError\u001b[0m: 'tuple' object has no attribute 'append'"
     ]
    }
   ],
   "source": [
    "#change the data\n",
    "Work_location.append('Hyderabad')\n",
    "Worl_location"
   ]
  },
  {
   "cell_type": "code",
   "execution_count": 66,
   "id": "185938d3",
   "metadata": {},
   "outputs": [
    {
     "ename": "TypeError",
     "evalue": "'tuple' object does not support item assignment",
     "output_type": "error",
     "traceback": [
      "\u001b[1;31m---------------------------------------------------------------------------\u001b[0m",
      "\u001b[1;31mTypeError\u001b[0m                                 Traceback (most recent call last)",
      "Input \u001b[1;32mIn [66]\u001b[0m, in \u001b[0;36m<cell line: 1>\u001b[1;34m()\u001b[0m\n\u001b[1;32m----> 1\u001b[0m Work_location[\u001b[38;5;241m1\u001b[39m] \u001b[38;5;241m=\u001b[39m \u001b[38;5;124m'\u001b[39m\u001b[38;5;124mKolkata\u001b[39m\u001b[38;5;124m'\u001b[39m\n",
      "\u001b[1;31mTypeError\u001b[0m: 'tuple' object does not support item assignment"
     ]
    }
   ],
   "source": [
    "Work_location[1] = 'Kolkata'"
   ]
  },
  {
   "cell_type": "code",
   "execution_count": 67,
   "id": "fe062578",
   "metadata": {},
   "outputs": [],
   "source": [
    "#convert into tuple\n",
    "Work_location = tuple(Work_location)"
   ]
  },
  {
   "cell_type": "code",
   "execution_count": 68,
   "id": "ab686834",
   "metadata": {},
   "outputs": [
    {
     "data": {
      "text/plain": [
       "('Bengaluru', 'Noida', 'Chennai', 'Delhi')"
      ]
     },
     "execution_count": 68,
     "metadata": {},
     "output_type": "execute_result"
    }
   ],
   "source": [
    "Work_location"
   ]
  },
  {
   "cell_type": "code",
   "execution_count": 69,
   "id": "c8832bb0",
   "metadata": {},
   "outputs": [
    {
     "data": {
      "text/plain": [
       "4"
      ]
     },
     "execution_count": 69,
     "metadata": {},
     "output_type": "execute_result"
    }
   ],
   "source": [
    "#Check Len just like a list\n",
    "len(Work_location)"
   ]
  },
  {
   "cell_type": "code",
   "execution_count": 70,
   "id": "e16b62ed",
   "metadata": {},
   "outputs": [
    {
     "data": {
      "text/plain": [
       "'Noida'"
      ]
     },
     "execution_count": 70,
     "metadata": {},
     "output_type": "execute_result"
    }
   ],
   "source": [
    "#use indexing just like we did in list\n",
    "Work_location[1]"
   ]
  },
  {
   "cell_type": "code",
   "execution_count": 71,
   "id": "a40a0284",
   "metadata": {},
   "outputs": [
    {
     "data": {
      "text/plain": [
       "'Chennai'"
      ]
     },
     "execution_count": 71,
     "metadata": {},
     "output_type": "execute_result"
    }
   ],
   "source": [
    "#slicingjust like a list\n",
    "Work_location[2]"
   ]
  },
  {
   "cell_type": "code",
   "execution_count": 72,
   "id": "2993d434",
   "metadata": {},
   "outputs": [
    {
     "data": {
      "text/plain": [
       "(25, 50, 88, 90, 50)"
      ]
     },
     "execution_count": 72,
     "metadata": {},
     "output_type": "execute_result"
    }
   ],
   "source": [
    "numbers = (25,50,88,90,50)\n",
    "numbers"
   ]
  },
  {
   "cell_type": "code",
   "execution_count": 73,
   "id": "014ca8ef",
   "metadata": {},
   "outputs": [
    {
     "data": {
      "text/plain": [
       "2"
      ]
     },
     "execution_count": 73,
     "metadata": {},
     "output_type": "execute_result"
    }
   ],
   "source": [
    "#use count to count the number of times a value appears\n",
    "numbers.count(50)"
   ]
  },
  {
   "cell_type": "code",
   "execution_count": 74,
   "id": "cc4a230c",
   "metadata": {},
   "outputs": [
    {
     "data": {
      "text/plain": [
       "1"
      ]
     },
     "execution_count": 74,
     "metadata": {},
     "output_type": "execute_result"
    }
   ],
   "source": [
    "#uses .index to enter a value return the index\n",
    "numbers.index(50)"
   ]
  },
  {
   "cell_type": "code",
   "execution_count": 75,
   "id": "3f28516e",
   "metadata": {},
   "outputs": [],
   "source": [
    "#sets\n",
    "roll_numbers = set()"
   ]
  },
  {
   "cell_type": "code",
   "execution_count": 76,
   "id": "991c124d",
   "metadata": {},
   "outputs": [
    {
     "data": {
      "text/plain": [
       "set"
      ]
     },
     "execution_count": 76,
     "metadata": {},
     "output_type": "execute_result"
    }
   ],
   "source": [
    "type(roll_numbers)"
   ]
  },
  {
   "cell_type": "code",
   "execution_count": 78,
   "id": "feb37c4a",
   "metadata": {},
   "outputs": [
    {
     "data": {
      "text/plain": [
       "{1}"
      ]
     },
     "execution_count": 78,
     "metadata": {},
     "output_type": "execute_result"
    }
   ],
   "source": [
    "#we add to set with the add () method\n",
    "roll_number.add(1)\n",
    "roll_number"
   ]
  },
  {
   "cell_type": "code",
   "execution_count": 81,
   "id": "0e4ac14b",
   "metadata": {},
   "outputs": [
    {
     "data": {
      "text/plain": [
       "{1, 2}"
      ]
     },
     "execution_count": 81,
     "metadata": {},
     "output_type": "execute_result"
    }
   ],
   "source": [
    "#add a different element\n",
    "roll_number.add(2)\n",
    "roll_number"
   ]
  },
  {
   "cell_type": "code",
   "execution_count": 82,
   "id": "395aee3b",
   "metadata": {},
   "outputs": [],
   "source": [
    "#create a list with repeats\n",
    "remove_dups = [8,5,6,9,1,1,2,2,3,4,5,6,1,1,7,7]"
   ]
  },
  {
   "cell_type": "code",
   "execution_count": 84,
   "id": "ca843b67",
   "metadata": {},
   "outputs": [
    {
     "ename": "NameError",
     "evalue": "name 'dups_remove' is not defined",
     "output_type": "error",
     "traceback": [
      "\u001b[1;31m---------------------------------------------------------------------------\u001b[0m",
      "\u001b[1;31mNameError\u001b[0m                                 Traceback (most recent call last)",
      "Input \u001b[1;32mIn [84]\u001b[0m, in \u001b[0;36m<cell line: 3>\u001b[1;34m()\u001b[0m\n\u001b[0;32m      1\u001b[0m \u001b[38;5;66;03m#cast as set to get unique values\u001b[39;00m\n\u001b[0;32m      2\u001b[0m dup_remove \u001b[38;5;241m=\u001b[39m \u001b[38;5;28mset\u001b[39m(remove_dups)\n\u001b[1;32m----> 3\u001b[0m \u001b[43mdups_remove\u001b[49m\n",
      "\u001b[1;31mNameError\u001b[0m: name 'dups_remove' is not defined"
     ]
    }
   ],
   "source": [
    "#cast as set to get unique values\n",
    "dup_remove = set(remove_dups)\n",
    "dups_remove"
   ]
  },
  {
   "cell_type": "code",
   "execution_count": 85,
   "id": "f8218c76",
   "metadata": {},
   "outputs": [
    {
     "data": {
      "text/plain": [
       "[1, 2, 3, 4, 5, 6, 7, 8, 9]"
      ]
     },
     "execution_count": 85,
     "metadata": {},
     "output_type": "execute_result"
    }
   ],
   "source": [
    "#again you can convert to list if you want (after removing duplicates)\n",
    "remove_dups = list(dup_removed)\n",
    "remove_dups"
   ]
  },
  {
   "cell_type": "code",
   "execution_count": null,
   "id": "9a9d587b",
   "metadata": {},
   "outputs": [],
   "source": []
  }
 ],
 "metadata": {
  "kernelspec": {
   "display_name": "Python 3 (ipykernel)",
   "language": "python",
   "name": "python3"
  },
  "language_info": {
   "codemirror_mode": {
    "name": "ipython",
    "version": 3
   },
   "file_extension": ".py",
   "mimetype": "text/x-python",
   "name": "python",
   "nbconvert_exporter": "python",
   "pygments_lexer": "ipython3",
   "version": "3.9.12"
  }
 },
 "nbformat": 4,
 "nbformat_minor": 5
}
